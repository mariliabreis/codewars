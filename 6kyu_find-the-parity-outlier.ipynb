{
 "cells": [
  {
   "cell_type": "markdown",
   "id": "placed-robertson",
   "metadata": {},
   "source": [
    "# Find the parity outlier\n",
    "[2, 4, 0, 100, 4, 11, 2602, 36] \\\n",
    "Should return: 11 (the only odd number) \\\n",
    "\\\n",
    "[160, 3, 1719, 19, 11, 13, -21] \\\n",
    "Should return: 160 (the only even number)"
   ]
  },
  {
   "cell_type": "code",
   "execution_count": null,
   "id": "ranking-cylinder",
   "metadata": {},
   "outputs": [],
   "source": [
    "import numpy as np"
   ]
  },
  {
   "cell_type": "code",
   "execution_count": 21,
   "id": "coordinate-scheme",
   "metadata": {},
   "outputs": [],
   "source": [
    "# check each item of list divided by 2. if rest is 0, then it is.\n",
    "evenlist = [2, 4, 0, 100, 4, 11, 2602, 36]\n",
    "# Transform into numpy\n",
    "x = np.array(evenlist)"
   ]
  },
  {
   "cell_type": "code",
   "execution_count": 23,
   "id": "sunset-eligibility",
   "metadata": {},
   "outputs": [
    {
     "data": {
      "text/plain": [
       "7"
      ]
     },
     "execution_count": 23,
     "metadata": {},
     "output_type": "execute_result"
    }
   ],
   "source": [
    "boolean_filter = x[x%2==0]\n",
    "boolean_filter.shape[0]"
   ]
  },
  {
   "cell_type": "code",
   "execution_count": 34,
   "id": "exterior-reduction",
   "metadata": {},
   "outputs": [],
   "source": [
    "boolean_list = [i%2 == 0 for i in evenlist]"
   ]
  },
  {
   "cell_type": "code",
   "execution_count": 35,
   "id": "satellite-fairy",
   "metadata": {},
   "outputs": [
    {
     "data": {
      "text/plain": [
       "[True, True, True, True, True, False, True, True]"
      ]
     },
     "execution_count": 35,
     "metadata": {},
     "output_type": "execute_result"
    }
   ],
   "source": [
    "boolean_list"
   ]
  },
  {
   "cell_type": "code",
   "execution_count": 37,
   "id": "criminal-argument",
   "metadata": {},
   "outputs": [
    {
     "data": {
      "text/plain": [
       "int"
      ]
     },
     "execution_count": 37,
     "metadata": {},
     "output_type": "execute_result"
    }
   ],
   "source": [
    "type(np.count_nonzero(boolean_list))"
   ]
  },
  {
   "cell_type": "code",
   "execution_count": 44,
   "id": "imported-biodiversity",
   "metadata": {},
   "outputs": [],
   "source": [
    "def find_the_purity(array):\n",
    "    boolean_list = [i%2 == 0 for i in array]\n",
    "    if np.count_nonzero(boolean_list) > 1:\n",
    "        return array[boolean_list.index(False)]\n",
    "    return array[boolean_list.index(True)]"
   ]
  },
  {
   "cell_type": "code",
   "execution_count": 46,
   "id": "pointed-marketplace",
   "metadata": {},
   "outputs": [
    {
     "data": {
      "text/plain": [
       "160"
      ]
     },
     "execution_count": 46,
     "metadata": {},
     "output_type": "execute_result"
    }
   ],
   "source": [
    "find_the_purity([160, 3, 1719, 19, 11, 13, -21])"
   ]
  },
  {
   "cell_type": "markdown",
   "id": "understood-robinson",
   "metadata": {},
   "source": [
    "### Best practice"
   ]
  },
  {
   "cell_type": "code",
   "execution_count": null,
   "id": "immune-fraction",
   "metadata": {},
   "outputs": [],
   "source": [
    "# def find_outlier(int):\n",
    "#     odds = [x for x in int if x%2!=0]\n",
    "#     evens= [x for x in int if x%2==0]\n",
    "#     return odds[0] if len(odds)<len(evens) else evens[0]"
   ]
  }
 ],
 "metadata": {
  "kernelspec": {
   "display_name": "Python 3",
   "language": "python",
   "name": "python3"
  },
  "language_info": {
   "codemirror_mode": {
    "name": "ipython",
    "version": 3
   },
   "file_extension": ".py",
   "mimetype": "text/x-python",
   "name": "python",
   "nbconvert_exporter": "python",
   "pygments_lexer": "ipython3",
   "version": "3.8.6"
  }
 },
 "nbformat": 4,
 "nbformat_minor": 5
}
