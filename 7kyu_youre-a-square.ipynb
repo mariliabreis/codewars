{
 "cells": [
  {
   "cell_type": "markdown",
   "id": "accepting-australia",
   "metadata": {},
   "source": [
    "# You're a square!"
   ]
  },
  {
   "cell_type": "markdown",
   "id": "transparent-academy",
   "metadata": {},
   "source": [
    "-1  =>  false \\\n",
    " 0  =>  true \\\n",
    " 3  =>  false \\\n",
    " 4  =>  true \\\n",
    "25  =>  true \\\n",
    "26  =>  false \\\n",
    "\\\n",
    "a number is a perfect square if raiz de N não tem sobra"
   ]
  },
  {
   "cell_type": "code",
   "execution_count": 9,
   "id": "abroad-budapest",
   "metadata": {},
   "outputs": [],
   "source": [
    "import math"
   ]
  },
  {
   "cell_type": "code",
   "execution_count": null,
   "id": "unable-glossary",
   "metadata": {},
   "outputs": [],
   "source": [
    "if math.sqrt(4) == int:\n",
    "    print('ok')"
   ]
  },
  {
   "cell_type": "code",
   "execution_count": 1,
   "id": "equipped-abortion",
   "metadata": {},
   "outputs": [],
   "source": [
    "# def is_square(n):    \n",
    "#     return False"
   ]
  },
  {
   "cell_type": "code",
   "execution_count": 36,
   "id": "numerous-material",
   "metadata": {},
   "outputs": [],
   "source": [
    "def is_square(n):    \n",
    "    if n >= 0:\n",
    "        return math.sqrt(n).is_integer()\n",
    "    return False\n",
    "# melhor organizar o if de outra forma:\n",
    "# def is_square(n):    \n",
    "#     if n < 0:\n",
    "#         return False\n",
    "#     sqrt = math.sqrt(n)\n",
    "#     return sqrt.is_integer()"
   ]
  },
  {
   "cell_type": "code",
   "execution_count": 35,
   "id": "designed-yesterday",
   "metadata": {},
   "outputs": [
    {
     "data": {
      "text/plain": [
       "False"
      ]
     },
     "execution_count": 35,
     "metadata": {},
     "output_type": "execute_result"
    }
   ],
   "source": [
    "is_square(24)"
   ]
  },
  {
   "cell_type": "markdown",
   "id": "flying-aerospace",
   "metadata": {},
   "source": [
    "### Best practice"
   ]
  },
  {
   "cell_type": "code",
   "execution_count": null,
   "id": "piano-stewart",
   "metadata": {},
   "outputs": [],
   "source": [
    "# import math\n",
    "# def is_square(n):\n",
    "#     return n > -1 and math.sqrt(n) % 1 == 0"
   ]
  },
  {
   "cell_type": "code",
   "execution_count": null,
   "id": "falling-affiliate",
   "metadata": {},
   "outputs": [],
   "source": [
    "# # curti essa: \n",
    "# def is_square(n):    \n",
    "#     return n >= 0 and (n**0.5) % 1 == 0"
   ]
  }
 ],
 "metadata": {
  "kernelspec": {
   "display_name": "Python 3",
   "language": "python",
   "name": "python3"
  },
  "language_info": {
   "codemirror_mode": {
    "name": "ipython",
    "version": 3
   },
   "file_extension": ".py",
   "mimetype": "text/x-python",
   "name": "python",
   "nbconvert_exporter": "python",
   "pygments_lexer": "ipython3",
   "version": "3.8.6"
  }
 },
 "nbformat": 4,
 "nbformat_minor": 5
}
