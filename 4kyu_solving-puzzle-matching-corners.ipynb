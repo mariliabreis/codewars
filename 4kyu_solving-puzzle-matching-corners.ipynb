{
 "cells": [
  {
   "cell_type": "markdown",
   "id": "happy-surveillance",
   "metadata": {},
   "source": [
    "# Solving a puzzle by matching four corners"
   ]
  },
  {
   "cell_type": "code",
   "execution_count": 1,
   "id": "reliable-emperor",
   "metadata": {},
   "outputs": [],
   "source": [
    "width, height = 3,3\n",
    "source = [ ((None, 5), (None, None), 3), \n",
    "           ((17, None), (None, None), 9),\n",
    "           ((None, 4), (None, 5), 8),\n",
    "           ((4, 11), (5, 17), 5),\n",
    "           ((11, None), (17, None), 2),   \n",
    "           ((None, None), (None, 4), 7),\n",
    "           ((5, 17), (None, None), 1), \n",
    "           ((None, None), (11, None), 4),\n",
    "           ((None, None), (4, 11), 6) ]"
   ]
  },
  {
   "cell_type": "code",
   "execution_count": 2,
   "id": "increased-bradley",
   "metadata": {},
   "outputs": [],
   "source": [
    "pile = source.copy()"
   ]
  },
  {
   "cell_type": "code",
   "execution_count": 3,
   "id": "shaped-instrument",
   "metadata": {},
   "outputs": [
    {
     "data": {
      "text/plain": [
       "[((None, 5), (None, None), 3),\n",
       " ((17, None), (None, None), 9),\n",
       " ((None, 4), (None, 5), 8),\n",
       " ((4, 11), (5, 17), 5),\n",
       " ((11, None), (17, None), 2),\n",
       " ((None, None), (None, 4), 7),\n",
       " ((5, 17), (None, None), 1),\n",
       " ((None, None), (11, None), 4),\n",
       " ((None, None), (4, 11), 6)]"
      ]
     },
     "execution_count": 3,
     "metadata": {},
     "output_type": "execute_result"
    }
   ],
   "source": [
    "pile"
   ]
  },
  {
   "cell_type": "code",
   "execution_count": 4,
   "id": "charming-persian",
   "metadata": {},
   "outputs": [],
   "source": [
    "# solution = []\n",
    "# for rownumber in range(3):\n",
    "#   row = []\n",
    "#   for piece in range(rownumber*3+1,rownumber*3+4):\n",
    "#     if len(solution)==0 and len(row) == 0:\n",
    "#       print('first value')\n",
    "#       row.append(piece)\n",
    "#       print(row)\n",
    "#     elif len(row) == 0:\n",
    "#       print('first value in row')\n",
    "#       row.append(piece)\n",
    "#       print(row)\n",
    "#     else:\n",
    "#       print('row in conswtruction')\n",
    "#       row.append(piece)\n",
    "#       print(row)\n",
    "#   solution.append(row)\n",
    "#   print('full row', solution[rownumber])\n",
    "#   print(solution)"
   ]
  },
  {
   "cell_type": "code",
   "execution_count": 5,
   "id": "narrow-front",
   "metadata": {},
   "outputs": [
    {
     "name": "stdout",
     "output_type": "stream",
     "text": [
      "[[((None, None), (None, 4)), ((None, None), (4, 11)), ((None, None), (11, None))], [((None, 4), (None, 5)), ((4, 11), (5, 17)), ((11, None), (17, None))], [], [((None, 5), (None, None)), ((5, 17), (None, None)), ((17, None), (None, None))]]\n"
     ]
    }
   ],
   "source": [
    "solution = []\n",
    "for rownumber in range(height+1):\n",
    "    row = []\n",
    "    for position in range(width):\n",
    "        if len(solution)==0 and len(row) == 0:\n",
    "            for piece in pile:\n",
    "                # pega a peça certa à direita\n",
    "                if piece[0][0]==None and piece[0][1]==None and piece[1][0]==None:\n",
    "                    # adiciona em 'row'\n",
    "                    row.append(piece[0:2])\n",
    "                    # remove de 'pile'\n",
    "                    index = pile.index(piece)\n",
    "                    pile.pop(index)\n",
    "                    # limitado pelo match; volta para o loop de cima\n",
    "                    break\n",
    "        elif len(row) == 0:\n",
    "            for piece in pile:\n",
    "                # pega a peça certa à direita\n",
    "                if piece[0][1]==solution[rownumber-2][0][1][1] and piece[0][0]==None and piece[1][0]==None:\n",
    "                    # adiciona em 'solution'\n",
    "                    row.append(piece[0:2])\n",
    "                    # remove de 'pile'\n",
    "                    index = pile.index(piece)\n",
    "                    pile.pop(index)\n",
    "                    # limitado pelo match; volta para o loop de cima\n",
    "                    break\n",
    "        else:\n",
    "            for piece in pile:\n",
    "                # pega a peça certa à direita\n",
    "                if piece[0][0]==row[position-1][0][1] and piece[1][0]==row[position-1][1][1]:\n",
    "                    # adiciona em 'row'\n",
    "                    row.append(piece[0:2])\n",
    "                    # remove de 'pile'\n",
    "                    index = pile.index(piece)\n",
    "                    pile.pop(index)\n",
    "                    # limitado pelo match; volta para o loop de cima\n",
    "                    break\n",
    "    solution.append(row)\n",
    "print(solution)"
   ]
  },
  {
   "cell_type": "code",
   "execution_count": 6,
   "id": "exotic-placement",
   "metadata": {},
   "outputs": [],
   "source": [
    "solution[0][0][0][0]"
   ]
  },
  {
   "cell_type": "code",
   "execution_count": 7,
   "id": "naval-flight",
   "metadata": {},
   "outputs": [
    {
     "ename": "SyntaxError",
     "evalue": "unexpected EOF while parsing (<ipython-input-7-4a6af8abd673>, line 35)",
     "output_type": "error",
     "traceback": [
      "\u001b[0;36m  File \u001b[0;32m\"<ipython-input-7-4a6af8abd673>\"\u001b[0;36m, line \u001b[0;32m35\u001b[0m\n\u001b[0;31m    #     #             break\u001b[0m\n\u001b[0m                             ^\u001b[0m\n\u001b[0;31mSyntaxError\u001b[0m\u001b[0;31m:\u001b[0m unexpected EOF while parsing\n"
     ]
    }
   ],
   "source": [
    "# gets first piece in next row hard coded\n",
    "for i in range(height):\n",
    "    for piece in pile:\n",
    "        if len(solution) == 0:\n",
    "            if piece[0][0]==None and piece[0][1]==None and piece[1][0]==None:\n",
    "                print('first piece first row', piece)\n",
    "    #         # adiciona em 'solution'\n",
    "    #         solution.append(piece[0:2])\n",
    "    #         # remove de 'pile'\n",
    "    #         index = pile.index(piece)\n",
    "    #         pile.pop(index)\n",
    "    #         # limitado pelo match; volta para o loop de cima\n",
    "    #         break\n",
    "            for i in range(width):\n",
    "                for piece in pile:\n",
    "                    # pega a peça certa à direita\n",
    "                    if piece[0][0]==solution[0] and piece[0][1]==None and piece[1][0]==None:\n",
    "                        \n",
    "                #         # adiciona em 'solution'\n",
    "                #         solution.append(piece[0:2])\n",
    "                #         # remove de 'pile'\n",
    "                #         index = pile.index(piece)\n",
    "                #         pile.pop(index)\n",
    "                #         # limitado pelo match; volta para o loop de cima\n",
    "                #         break\n",
    "        # pega a peça certa abaixo da row anterior\n",
    "#             if piece[0][0]==solution[i][1][0] and piece[0][1]==solution[i][1][1]:\n",
    "#                 print('second row', piece)\n",
    "#     #             # adiciona em 'solution'\n",
    "#     #             solution.append(piece[0:2])\n",
    "#     #             # remove de 'pile'\n",
    "#     #             index = pile.index(piece)\n",
    "#     #             pile.pop(index)\n",
    "#     #             # limitado pelo match; volta para o loop de cima\n",
    "#     #             break"
   ]
  },
  {
   "cell_type": "code",
   "execution_count": null,
   "id": "signed-negative",
   "metadata": {},
   "outputs": [],
   "source": [
    "# gets first piece\n",
    "for piece in pile:\n",
    "    # pega a peça certa à direita\n",
    "    if piece[0][0]==solution[0] and piece[0][1]==None and piece[1][0]==None:\n",
    "        # adiciona em 'solution'\n",
    "        solution.append(piece[0:2])\n",
    "        # remove de 'pile'\n",
    "        index = pile.index(piece)\n",
    "        pile.pop(index)\n",
    "        # limitado pelo match; volta para o loop de cima\n",
    "        break"
   ]
  },
  {
   "cell_type": "code",
   "execution_count": null,
   "id": "impressive-extra",
   "metadata": {},
   "outputs": [],
   "source": [
    "solution"
   ]
  },
  {
   "cell_type": "code",
   "execution_count": null,
   "id": "centered-providence",
   "metadata": {},
   "outputs": [],
   "source": [
    "solution[0][1][1]"
   ]
  },
  {
   "cell_type": "code",
   "execution_count": null,
   "id": "dense-selling",
   "metadata": {},
   "outputs": [],
   "source": [
    "# gets next piece with first one hard coded\n",
    "for piece in pile:\n",
    "    # pega a peça certa à direita\n",
    "    if piece[0][0]==solution[0][0][1] and piece[1][0]==solution[0][1][1]:\n",
    "        # adiciona em 'solution'\n",
    "        solution.append(piece[0:2])\n",
    "        # remove de 'pile'\n",
    "        index = pile.index(piece)\n",
    "        pile.pop(index)\n",
    "        # limitado pelo match; volta para o loop de cima\n",
    "        break\n",
    "# loop interrompe a row sozinho quando não encontra um match"
   ]
  },
  {
   "cell_type": "code",
   "execution_count": null,
   "id": "comfortable-slovakia",
   "metadata": {},
   "outputs": [],
   "source": [
    "solution"
   ]
  },
  {
   "cell_type": "code",
   "execution_count": null,
   "id": "phantom-boulder",
   "metadata": {},
   "outputs": [],
   "source": [
    "# gets next piece with second one hard coded\n",
    "for piece in pile:\n",
    "    # pega a peça certa à direita\n",
    "    if piece[0][0]==solution[1][0][1] and piece[1][0]==solution[1][1][1]:\n",
    "        # adiciona em 'solution'\n",
    "        solution.append(piece[0:2])\n",
    "        # remove de 'pile'\n",
    "        index = pile.index(piece)\n",
    "        pile.pop(index)\n",
    "        # limitado pelo match; volta para o loop de cima\n",
    "        break\n",
    "# loop interrompe a row sozinho quando não encontra um match"
   ]
  },
  {
   "cell_type": "code",
   "execution_count": null,
   "id": "together-species",
   "metadata": {},
   "outputs": [],
   "source": [
    "solution"
   ]
  },
  {
   "cell_type": "code",
   "execution_count": null,
   "id": "right-robin",
   "metadata": {},
   "outputs": [],
   "source": []
  },
  {
   "cell_type": "code",
   "execution_count": null,
   "id": "popular-vacuum",
   "metadata": {},
   "outputs": [],
   "source": [
    "solution"
   ]
  },
  {
   "cell_type": "code",
   "execution_count": null,
   "id": "unlikely-windows",
   "metadata": {},
   "outputs": [],
   "source": [
    "# gets fifth piece with former one hard coded\n",
    "for piece in pile:\n",
    "    # pega a peça certa à direita\n",
    "    if piece[0][0]==solution[3][0][1] and piece[1][0]==solution[3][1][1]:\n",
    "        # adiciona em 'solution'\n",
    "        solution.append(piece[0:2])\n",
    "        # remove de 'pile'\n",
    "        index = pile.index(piece)\n",
    "        pile.pop(index)\n",
    "        # limitado pelo match; volta para o loop de cima\n",
    "        break\n",
    "# loop interrompe a row sozinho quando não encontra um match"
   ]
  },
  {
   "cell_type": "code",
   "execution_count": null,
   "id": "every-annotation",
   "metadata": {},
   "outputs": [],
   "source": [
    "solution"
   ]
  },
  {
   "cell_type": "code",
   "execution_count": null,
   "id": "restricted-particle",
   "metadata": {},
   "outputs": [],
   "source": [
    "# to find piece to the right\n",
    "# include loop that goes to the next piece, and then breaks when reaches the \n",
    "# while solution[-1][0][1]!=None and solution[-1][1][1]!=None:\n",
    "for piece in pile:\n",
    "    if piece[0][0]==solution[0][0][1] and piece[1][0]==solution[0][1][1]:\n",
    "        solution.append(piece[0:2])\n",
    "        index = pile.index(piece)\n",
    "        pile.pop(index)\n",
    "        break"
   ]
  },
  {
   "cell_type": "code",
   "execution_count": null,
   "id": "heated-mainland",
   "metadata": {},
   "outputs": [],
   "source": [
    "solution"
   ]
  },
  {
   "cell_type": "code",
   "execution_count": null,
   "id": "unknown-treasurer",
   "metadata": {},
   "outputs": [],
   "source": [
    "pile"
   ]
  },
  {
   "cell_type": "code",
   "execution_count": null,
   "id": "fifty-musician",
   "metadata": {},
   "outputs": [],
   "source": [
    "corners_index = [index for index, value in enumerate(testlist) if value == 5]"
   ]
  },
  {
   "cell_type": "code",
   "execution_count": null,
   "id": "hearing-subsection",
   "metadata": {},
   "outputs": [],
   "source": [
    "for index, value in enumerate(testlist):\n",
    "    if value == 5:\n",
    "        print(index)"
   ]
  },
  {
   "cell_type": "code",
   "execution_count": null,
   "id": "fixed-conducting",
   "metadata": {},
   "outputs": [],
   "source": [
    "# index of piece = index/4.floor"
   ]
  }
 ],
 "metadata": {
  "kernelspec": {
   "display_name": "Python 3",
   "language": "python",
   "name": "python3"
  },
  "language_info": {
   "codemirror_mode": {
    "name": "ipython",
    "version": 3
   },
   "file_extension": ".py",
   "mimetype": "text/x-python",
   "name": "python",
   "nbconvert_exporter": "python",
   "pygments_lexer": "ipython3",
   "version": "3.8.6"
  }
 },
 "nbformat": 4,
 "nbformat_minor": 5
}
