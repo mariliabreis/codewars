{
 "cells": [
  {
   "cell_type": "markdown",
   "id": "happy-surveillance",
   "metadata": {},
   "source": [
    "# Solving a puzzle by matching four corners"
   ]
  },
  {
   "cell_type": "code",
   "execution_count": 1,
   "id": "reliable-emperor",
   "metadata": {},
   "outputs": [],
   "source": [
    "width, height = 3,3\n",
    "source = [ ((None, 5), (None, None), 3), \n",
    "           ((17, None), (None, None), 9),\n",
    "           ((None, 4), (None, 5), 8),\n",
    "           ((4, 11), (5, 17), 5),\n",
    "           ((11, None), (17, None), 2),   \n",
    "           ((None, None), (None, 4), 7),\n",
    "           ((5, 17), (None, None), 1), \n",
    "           ((None, None), (11, None), 4),\n",
    "           ((None, None), (4, 11), 6) ]"
   ]
  },
  {
   "cell_type": "code",
   "execution_count": 2,
   "id": "increased-bradley",
   "metadata": {},
   "outputs": [],
   "source": [
    "pieces = source.copy()"
   ]
  },
  {
   "cell_type": "code",
   "execution_count": 3,
   "id": "shaped-instrument",
   "metadata": {},
   "outputs": [
    {
     "data": {
      "text/plain": [
       "[((None, 5), (None, None), 3),\n",
       " ((17, None), (None, None), 9),\n",
       " ((None, 4), (None, 5), 8),\n",
       " ((4, 11), (5, 17), 5),\n",
       " ((11, None), (17, None), 2),\n",
       " ((None, None), (None, 4), 7),\n",
       " ((5, 17), (None, None), 1),\n",
       " ((None, None), (11, None), 4),\n",
       " ((None, None), (4, 11), 6)]"
      ]
     },
     "execution_count": 3,
     "metadata": {},
     "output_type": "execute_result"
    }
   ],
   "source": [
    "pieces"
   ]
  },
  {
   "cell_type": "code",
   "execution_count": 4,
   "id": "racial-closer",
   "metadata": {},
   "outputs": [],
   "source": [
    "solution = []"
   ]
  },
  {
   "cell_type": "code",
   "execution_count": null,
   "id": "atomic-cleaners",
   "metadata": {},
   "outputs": [],
   "source": [
    "# for (loop pra baixo) - pega a primeira peça da row e segue pro próximo loop: - limitado pelos None de baixo; é o que defiine o fim\n",
    "# for (loop pra direita) - pega a peça da esquerda e faz a row inteira - limitado pelos None do lado. qnd acaba volta pro loop de cima\n",
    "# for (loop da peça) - pega a peça certa à direita - limitado pelo match; volta para o loop de cima"
   ]
  },
  {
   "cell_type": "code",
   "execution_count": 5,
   "id": "naval-flight",
   "metadata": {},
   "outputs": [],
   "source": [
    "# to get first piece and remove it from the pile\n",
    "for piece in pieces:\n",
    "    if piece[0][0]==None and piece[0][1]==None and piece[1][0]==None:\n",
    "        solution.append(piece[0:2])\n",
    "        index = pieces.index(piece)\n",
    "        pieces.pop(index)\n",
    "        break"
   ]
  },
  {
   "cell_type": "code",
   "execution_count": 6,
   "id": "together-species",
   "metadata": {},
   "outputs": [
    {
     "data": {
      "text/plain": [
       "[((None, None), (None, 4))]"
      ]
     },
     "execution_count": 6,
     "metadata": {},
     "output_type": "execute_result"
    }
   ],
   "source": [
    "solution"
   ]
  },
  {
   "cell_type": "code",
   "execution_count": 7,
   "id": "popular-vacuum",
   "metadata": {},
   "outputs": [
    {
     "data": {
      "text/plain": [
       "[((None, 5), (None, None), 3),\n",
       " ((17, None), (None, None), 9),\n",
       " ((None, 4), (None, 5), 8),\n",
       " ((4, 11), (5, 17), 5),\n",
       " ((11, None), (17, None), 2),\n",
       " ((5, 17), (None, None), 1),\n",
       " ((None, None), (11, None), 4),\n",
       " ((None, None), (4, 11), 6)]"
      ]
     },
     "execution_count": 7,
     "metadata": {},
     "output_type": "execute_result"
    }
   ],
   "source": [
    "pieces"
   ]
  },
  {
   "cell_type": "code",
   "execution_count": 15,
   "id": "unlikely-windows",
   "metadata": {},
   "outputs": [
    {
     "data": {
      "text/plain": [
       "((None, None), (None, 4))"
      ]
     },
     "execution_count": 15,
     "metadata": {},
     "output_type": "execute_result"
    }
   ],
   "source": [
    "solution[0]"
   ]
  },
  {
   "cell_type": "code",
   "execution_count": 9,
   "id": "restricted-particle",
   "metadata": {},
   "outputs": [],
   "source": [
    "# to find piece to the right\n",
    "# include loop that goes to the next piece, and then breaks when reaches the \n",
    "# while solution[-1][0][1]!=None and solution[-1][1][1]!=None:\n",
    "for piece in pieces:\n",
    "    if piece[0][0]==solution[0][0][1] and piece[1][0]==solution[0][1][1]:\n",
    "        solution.append(piece[0:2])\n",
    "        index = pieces.index(piece)\n",
    "        pieces.pop(index)\n",
    "        break"
   ]
  },
  {
   "cell_type": "code",
   "execution_count": 10,
   "id": "heated-mainland",
   "metadata": {},
   "outputs": [
    {
     "data": {
      "text/plain": [
       "[((None, None), (None, 4)), ((None, None), (4, 11))]"
      ]
     },
     "execution_count": 10,
     "metadata": {},
     "output_type": "execute_result"
    }
   ],
   "source": [
    "solution"
   ]
  },
  {
   "cell_type": "code",
   "execution_count": 11,
   "id": "unknown-treasurer",
   "metadata": {},
   "outputs": [
    {
     "data": {
      "text/plain": [
       "[((None, 5), (None, None), 3),\n",
       " ((17, None), (None, None), 9),\n",
       " ((None, 4), (None, 5), 8),\n",
       " ((4, 11), (5, 17), 5),\n",
       " ((11, None), (17, None), 2),\n",
       " ((5, 17), (None, None), 1),\n",
       " ((None, None), (11, None), 4)]"
      ]
     },
     "execution_count": 11,
     "metadata": {},
     "output_type": "execute_result"
    }
   ],
   "source": [
    "pieces"
   ]
  },
  {
   "cell_type": "code",
   "execution_count": 12,
   "id": "fifty-musician",
   "metadata": {},
   "outputs": [
    {
     "ename": "NameError",
     "evalue": "name 'testlist' is not defined",
     "output_type": "error",
     "traceback": [
      "\u001b[0;31m---------------------------------------------------------------------------\u001b[0m",
      "\u001b[0;31mNameError\u001b[0m                                 Traceback (most recent call last)",
      "\u001b[0;32m<ipython-input-12-9d633d5dcb7a>\u001b[0m in \u001b[0;36m<module>\u001b[0;34m\u001b[0m\n\u001b[0;32m----> 1\u001b[0;31m \u001b[0mcorners_index\u001b[0m \u001b[0;34m=\u001b[0m \u001b[0;34m[\u001b[0m\u001b[0mindex\u001b[0m \u001b[0;32mfor\u001b[0m \u001b[0mindex\u001b[0m\u001b[0;34m,\u001b[0m \u001b[0mvalue\u001b[0m \u001b[0;32min\u001b[0m \u001b[0menumerate\u001b[0m\u001b[0;34m(\u001b[0m\u001b[0mtestlist\u001b[0m\u001b[0;34m)\u001b[0m \u001b[0;32mif\u001b[0m \u001b[0mvalue\u001b[0m \u001b[0;34m==\u001b[0m \u001b[0;36m5\u001b[0m\u001b[0;34m]\u001b[0m\u001b[0;34m\u001b[0m\u001b[0;34m\u001b[0m\u001b[0m\n\u001b[0m",
      "\u001b[0;31mNameError\u001b[0m: name 'testlist' is not defined"
     ]
    }
   ],
   "source": [
    "corners_index = [index for index, value in enumerate(testlist) if value == 5]"
   ]
  },
  {
   "cell_type": "code",
   "execution_count": null,
   "id": "hearing-subsection",
   "metadata": {},
   "outputs": [],
   "source": [
    "for index, value in enumerate(testlist):\n",
    "    if value == 5:\n",
    "        print(index)"
   ]
  },
  {
   "cell_type": "code",
   "execution_count": null,
   "id": "fixed-conducting",
   "metadata": {},
   "outputs": [],
   "source": [
    "# index of piece = index/4.floor"
   ]
  }
 ],
 "metadata": {
  "kernelspec": {
   "display_name": "Python 3",
   "language": "python",
   "name": "python3"
  },
  "language_info": {
   "codemirror_mode": {
    "name": "ipython",
    "version": 3
   },
   "file_extension": ".py",
   "mimetype": "text/x-python",
   "name": "python",
   "nbconvert_exporter": "python",
   "pygments_lexer": "ipython3",
   "version": "3.8.6"
  }
 },
 "nbformat": 4,
 "nbformat_minor": 5
}
