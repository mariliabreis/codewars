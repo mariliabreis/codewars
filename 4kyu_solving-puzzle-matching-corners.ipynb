{
 "cells": [
  {
   "cell_type": "markdown",
   "id": "happy-surveillance",
   "metadata": {},
   "source": [
    "# Solving a puzzle by matching four corners"
   ]
  },
  {
   "cell_type": "code",
   "execution_count": 1,
   "id": "reliable-emperor",
   "metadata": {},
   "outputs": [],
   "source": [
    "import numpy as np\n",
    "\n",
    "width, height = 3,3\n",
    "source = [ ((None, 5), (None, None), 3), \n",
    "           ((17, None), (None, None), 9),\n",
    "           ((None, 4), (None, 5), 8),\n",
    "           ((4, 11), (5, 17), 5),\n",
    "           ((11, None), (17, None), 2),   \n",
    "           ((None, None), (None, 4), 7),\n",
    "           ((5, 17), (None, None), 1), \n",
    "           ((None, None), (11, None), 4),\n",
    "           ((None, None), (4, 11), 6) ]"
   ]
  },
  {
   "cell_type": "code",
   "execution_count": 2,
   "id": "sustainable-specification",
   "metadata": {},
   "outputs": [
    {
     "name": "stdout",
     "output_type": "stream",
     "text": [
      "1\n",
      "2\n",
      "3\n"
     ]
    }
   ],
   "source": [
    "for rownumber in range(1,height+1):\n",
    "    print(rownumber)"
   ]
  },
  {
   "cell_type": "code",
   "execution_count": 3,
   "id": "narrow-front",
   "metadata": {},
   "outputs": [],
   "source": [
    "def puzzle_solver(puzzle, width, height):\n",
    "    # creates empty list to hold the correct sequence\n",
    "    solution = []\n",
    "    # creates puzzle copy to prevent rerunning kernel all the time\n",
    "    pile = source.copy()\n",
    "    # a loop over each row\n",
    "    for rownumber in range(height+1):\n",
    "        # creates an empty list to hold each piece of the row\n",
    "        row = []\n",
    "        # a loop over each position in the row (width)\n",
    "        for position in range(width):\n",
    "            # condition to check if it the piece is the first of the puzzle (0,0)\n",
    "            if len(solution)==0 and len(row) == 0:\n",
    "                # loops over the pile until match\n",
    "                for piece in pile:\n",
    "                    # gets the first piece, that is, the piece (None, None)(None, x)\n",
    "                    if piece[0][0]==None and piece[0][1]==None and piece[1][0]==None:\n",
    "                        # adds to row\n",
    "                        row.append(piece[0:2])\n",
    "                        # removes from pile\n",
    "                        index = pile.index(piece)\n",
    "                        pile.pop(index)\n",
    "                        # breaks when finds a match\n",
    "                        break\n",
    "            # condition to check if it is the first piece in the row (not the first of all)\n",
    "            elif len(row) == 0:\n",
    "                # loops over the pile until match\n",
    "                for piece in pile:\n",
    "                    # finds the match with the one on top\n",
    "                    if piece[0][1]==solution[rownumber-2][0][1][1] and piece[0][0]==None and piece[1][0]==None:\n",
    "                        # adds to row\n",
    "                        row.append(piece[0:2])\n",
    "                        # removes from pile\n",
    "                        index = pile.index(piece)\n",
    "                        pile.pop(index)\n",
    "                        # breaks when finds a match\n",
    "                        break\n",
    "            # for all other positions\n",
    "            else:\n",
    "                # loops over the pile until match\n",
    "                for piece in pile:\n",
    "                    # finds the match with the one to the left\n",
    "                    if piece[0][0]==row[position-1][0][1] and piece[1][0]==row[position-1][1][1]:\n",
    "                        # adds to row\n",
    "                        row.append(piece[0:2])\n",
    "                        # removes from pile\n",
    "                        index = pile.index(piece)\n",
    "                        pile.pop(index)\n",
    "                        # breaks when finds a match\n",
    "                        break\n",
    "        # adds the completed row for each iteration\n",
    "        solution.append(row)\n",
    "    return solution"
   ]
  },
  {
   "cell_type": "code",
   "execution_count": 4,
   "id": "sufficient-ethnic",
   "metadata": {},
   "outputs": [],
   "source": [
    "def checker(pile, width, height):\n",
    "    # creates empty list to hold the correct sequence\n",
    "    solution = []\n",
    "    # creates empty list to hold the id sequence\n",
    "    ids = []\n",
    "    # creates puzzle copy to prevent rerunning kernel all the time\n",
    "    pile = source.copy()\n",
    "    # a loop over each row\n",
    "    for rownumber in range(height):\n",
    "        # creates an empty list to hold each piece of the row\n",
    "        row = []\n",
    "        # a loop over each position in the row (width)\n",
    "        for position in range(width):\n",
    "            # condition to check if it the piece is the first of the puzzle (0,0)\n",
    "            if len(solution)==0 and len(row) == 0:\n",
    "                # loops over the pile until match\n",
    "                for piece in pile:\n",
    "                    # gets the first piece, that is, the piece (None, None)(None, x)\n",
    "                    if piece[0][0]==None and piece[0][1]==None and piece[1][0]==None:\n",
    "                        # adds to row\n",
    "                        row.append(piece)\n",
    "                        # removes from pile\n",
    "                        index = pile.index(piece)\n",
    "                        pile.pop(index)\n",
    "                        # breaks when finds a match\n",
    "                        break\n",
    "            # condition to check if it is the first piece in the row (not the first of all)\n",
    "            elif len(row) == 0:\n",
    "                # loops over the pile until match\n",
    "                for piece in pile:\n",
    "                    # finds the match with the one on top\n",
    "                    if piece[0][1]==solution[rownumber-1][0][1][1] and piece[0][0]==None and piece[1][0]==None:\n",
    "                        # adds to row\n",
    "                        row.append(piece)\n",
    "                        # removes from pile\n",
    "                        index = pile.index(piece)\n",
    "                        pile.pop(index)\n",
    "                        # breaks when finds a match\n",
    "                        break\n",
    "            # for all other positions\n",
    "            else:\n",
    "                # loops over the pile until match\n",
    "                for piece in pile:\n",
    "                    # finds the match with the one to the left\n",
    "                    if piece[0][0]==row[position-1][0][1] and piece[1][0]==row[position-1][1][1]:\n",
    "                        # adds to row\n",
    "                        row.append(piece)\n",
    "                        # removes from pile\n",
    "                        index = pile.index(piece)\n",
    "                        pile.pop(index)\n",
    "                        # breaks when finds a match\n",
    "                        break\n",
    "        # adds the completed row for each iteration\n",
    "        solution.append(row)\n",
    "    solution_array = np.array(solution)\n",
    "    return solution_array[:,:,2]"
   ]
  },
  {
   "cell_type": "code",
   "execution_count": 5,
   "id": "unknown-treasurer",
   "metadata": {},
   "outputs": [
    {
     "name": "stderr",
     "output_type": "stream",
     "text": [
      "<ipython-input-4-be7accd25180>:55: VisibleDeprecationWarning: Creating an ndarray from ragged nested sequences (which is a list-or-tuple of lists-or-tuples-or ndarrays with different lengths or shapes) is deprecated. If you meant to do this, you must specify 'dtype=object' when creating the ndarray\n",
      "  solution_array = np.array(solution)\n"
     ]
    }
   ],
   "source": [
    "test = checker(source, width, height)"
   ]
  },
  {
   "cell_type": "code",
   "execution_count": 6,
   "id": "nutritional-stretch",
   "metadata": {},
   "outputs": [
    {
     "data": {
      "text/plain": [
       "[((None, 5), (None, None), 3),\n",
       " ((17, None), (None, None), 9),\n",
       " ((None, 4), (None, 5), 8),\n",
       " ((4, 11), (5, 17), 5),\n",
       " ((11, None), (17, None), 2),\n",
       " ((None, None), (None, 4), 7),\n",
       " ((5, 17), (None, None), 1),\n",
       " ((None, None), (11, None), 4),\n",
       " ((None, None), (4, 11), 6)]"
      ]
     },
     "execution_count": 6,
     "metadata": {},
     "output_type": "execute_result"
    }
   ],
   "source": [
    "source"
   ]
  },
  {
   "cell_type": "code",
   "execution_count": 7,
   "id": "vietnamese-senegal",
   "metadata": {},
   "outputs": [
    {
     "data": {
      "text/plain": [
       "array([[7, 6, 4],\n",
       "       [8, 5, 2],\n",
       "       [3, 1, 9]], dtype=object)"
      ]
     },
     "execution_count": 7,
     "metadata": {},
     "output_type": "execute_result"
    }
   ],
   "source": [
    "test"
   ]
  },
  {
   "cell_type": "code",
   "execution_count": null,
   "id": "loose-somewhere",
   "metadata": {},
   "outputs": [],
   "source": []
  }
 ],
 "metadata": {
  "kernelspec": {
   "display_name": "Python 3",
   "language": "python",
   "name": "python3"
  },
  "language_info": {
   "codemirror_mode": {
    "name": "ipython",
    "version": 3
   },
   "file_extension": ".py",
   "mimetype": "text/x-python",
   "name": "python",
   "nbconvert_exporter": "python",
   "pygments_lexer": "ipython3",
   "version": "3.8.6"
  }
 },
 "nbformat": 4,
 "nbformat_minor": 5
}
