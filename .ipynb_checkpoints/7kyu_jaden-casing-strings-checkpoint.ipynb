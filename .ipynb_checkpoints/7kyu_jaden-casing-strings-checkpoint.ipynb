{
 "cells": [
  {
   "cell_type": "markdown",
   "id": "registered-alpha",
   "metadata": {},
   "source": [
    "# Jaden Casing Strings\n",
    "Not Jaden-Cased: \"How can mirrors be real if our eyes aren't real\" \\\n",
    "Jaden-Cased:     \"How Can Mirrors Be Real If Our Eyes Aren't Real\""
   ]
  },
  {
   "cell_type": "markdown",
   "id": "focused-afghanistan",
   "metadata": {},
   "source": [
    "### Some tests"
   ]
  },
  {
   "cell_type": "code",
   "execution_count": 1,
   "id": "frequent-consumption",
   "metadata": {},
   "outputs": [
    {
     "data": {
      "text/plain": [
       "'Marilia Reis'"
      ]
     },
     "execution_count": 1,
     "metadata": {},
     "output_type": "execute_result"
    }
   ],
   "source": [
    "# exploring the effects of camel case etc\n",
    "str.title('marilia reis')"
   ]
  },
  {
   "cell_type": "code",
   "execution_count": 2,
   "id": "mysterious-balance",
   "metadata": {},
   "outputs": [
    {
     "data": {
      "text/plain": [
       "\"Marilia'S Car\""
      ]
     },
     "execution_count": 2,
     "metadata": {},
     "output_type": "execute_result"
    }
   ],
   "source": [
    "str.title(\"marilia's car\")"
   ]
  },
  {
   "cell_type": "code",
   "execution_count": 4,
   "id": "horizontal-edmonton",
   "metadata": {},
   "outputs": [
    {
     "data": {
      "text/plain": [
       "[\"marilia's\", 'car']"
      ]
     },
     "execution_count": 4,
     "metadata": {},
     "output_type": "execute_result"
    }
   ],
   "source": [
    "\"marilia's car\".split(\" \")"
   ]
  },
  {
   "cell_type": "code",
   "execution_count": 5,
   "id": "governmental-restaurant",
   "metadata": {},
   "outputs": [
    {
     "data": {
      "text/plain": [
       "\"Marilia'S\""
      ]
     },
     "execution_count": 5,
     "metadata": {},
     "output_type": "execute_result"
    }
   ],
   "source": [
    "str.title(\"marilia's\")"
   ]
  },
  {
   "cell_type": "code",
   "execution_count": 7,
   "id": "driven-investor",
   "metadata": {},
   "outputs": [
    {
     "data": {
      "text/plain": [
       "\"Marilia's Car\""
      ]
     },
     "execution_count": 7,
     "metadata": {},
     "output_type": "execute_result"
    }
   ],
   "source": [
    "import string as str\n",
    "str.capwords(\"marilia's car\")"
   ]
  },
  {
   "cell_type": "markdown",
   "id": "stunning-artwork",
   "metadata": {},
   "source": [
    "### My solution"
   ]
  },
  {
   "cell_type": "code",
   "execution_count": 10,
   "id": "third-stage",
   "metadata": {},
   "outputs": [],
   "source": [
    "import string as str\n",
    "def to_jaden_case(string):\n",
    "    return str.capwords(string)"
   ]
  },
  {
   "cell_type": "code",
   "execution_count": 11,
   "id": "loving-sharp",
   "metadata": {},
   "outputs": [
    {
     "data": {
      "text/plain": [
       "\"Marilia's Car Is Here\""
      ]
     },
     "execution_count": 11,
     "metadata": {},
     "output_type": "execute_result"
    }
   ],
   "source": [
    "to_jaden_case(\"marilia's car is here\")"
   ]
  },
  {
   "cell_type": "markdown",
   "id": "square-diesel",
   "metadata": {},
   "source": [
    "### Best practice solution from the community"
   ]
  },
  {
   "cell_type": "code",
   "execution_count": 13,
   "id": "muslim-installation",
   "metadata": {},
   "outputs": [],
   "source": [
    "def toJadenCase_bp(string):        \n",
    "    return \" \".join(w.capitalize() for w in string.split())"
   ]
  }
 ],
 "metadata": {
  "kernelspec": {
   "display_name": "Python 3",
   "language": "python",
   "name": "python3"
  },
  "language_info": {
   "codemirror_mode": {
    "name": "ipython",
    "version": 3
   },
   "file_extension": ".py",
   "mimetype": "text/x-python",
   "name": "python",
   "nbconvert_exporter": "python",
   "pygments_lexer": "ipython3",
   "version": "3.8.6"
  }
 },
 "nbformat": 4,
 "nbformat_minor": 5
}
