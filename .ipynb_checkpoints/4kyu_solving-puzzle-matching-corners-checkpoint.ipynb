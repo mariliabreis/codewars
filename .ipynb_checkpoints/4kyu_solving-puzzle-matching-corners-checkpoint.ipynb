{
 "cells": [
  {
   "cell_type": "markdown",
   "id": "happy-surveillance",
   "metadata": {},
   "source": [
    "# Solving a puzzle by matching four corners"
   ]
  },
  {
   "cell_type": "code",
   "execution_count": 1,
   "id": "reliable-emperor",
   "metadata": {},
   "outputs": [],
   "source": [
    "width, height = 3,3\n",
    "source = [ ((None, 5), (None, None), 3), \n",
    "           ((17, None), (None, None), 9),\n",
    "           ((None, 4), (None, 5), 8),\n",
    "           ((4, 11), (5, 17), 5),\n",
    "           ((11, None), (17, None), 2),   \n",
    "           ((None, None), (None, 4), 7),\n",
    "           ((5, 17), (None, None), 1), \n",
    "           ((None, None), (11, None), 4),\n",
    "           ((None, None), (4, 11), 6) ]"
   ]
  },
  {
   "cell_type": "code",
   "execution_count": 2,
   "id": "increased-bradley",
   "metadata": {},
   "outputs": [],
   "source": [
    "pile = source.copy()"
   ]
  },
  {
   "cell_type": "code",
   "execution_count": 3,
   "id": "shaped-instrument",
   "metadata": {},
   "outputs": [
    {
     "data": {
      "text/plain": [
       "[((None, 5), (None, None), 3),\n",
       " ((17, None), (None, None), 9),\n",
       " ((None, 4), (None, 5), 8),\n",
       " ((4, 11), (5, 17), 5),\n",
       " ((11, None), (17, None), 2),\n",
       " ((None, None), (None, 4), 7),\n",
       " ((5, 17), (None, None), 1),\n",
       " ((None, None), (11, None), 4),\n",
       " ((None, None), (4, 11), 6)]"
      ]
     },
     "execution_count": 3,
     "metadata": {},
     "output_type": "execute_result"
    }
   ],
   "source": [
    "pile"
   ]
  },
  {
   "cell_type": "code",
   "execution_count": 5,
   "id": "narrow-front",
   "metadata": {},
   "outputs": [
    {
     "name": "stdout",
     "output_type": "stream",
     "text": [
      "[[((None, None), (None, 4)), ((None, None), (4, 11)), ((None, None), (11, None))], [((None, 4), (None, 5)), ((4, 11), (5, 17)), ((11, None), (17, None))], [], [((None, 5), (None, None)), ((5, 17), (None, None)), ((17, None), (None, None))]]\n"
     ]
    }
   ],
   "source": [
    "solution = []\n",
    "for rownumber in range(height+1):\n",
    "    row = []\n",
    "    for position in range(width):\n",
    "        if len(solution)==0 and len(row) == 0:\n",
    "            for piece in pile:\n",
    "                # pega a peça certa à direita\n",
    "                if piece[0][0]==None and piece[0][1]==None and piece[1][0]==None:\n",
    "                    # adiciona em 'row'\n",
    "                    row.append(piece[0:2])\n",
    "                    # remove de 'pile'\n",
    "                    index = pile.index(piece)\n",
    "                    pile.pop(index)\n",
    "                    # limitado pelo match; volta para o loop de cima\n",
    "                    break\n",
    "        elif len(row) == 0:\n",
    "            for piece in pile:\n",
    "                # pega a peça certa à direita\n",
    "                if piece[0][1]==solution[rownumber-2][0][1][1] and piece[0][0]==None and piece[1][0]==None:\n",
    "                    # adiciona em 'solution'\n",
    "                    row.append(piece[0:2])\n",
    "                    # remove de 'pile'\n",
    "                    index = pile.index(piece)\n",
    "                    pile.pop(index)\n",
    "                    # limitado pelo match; volta para o loop de cima\n",
    "                    break\n",
    "        else:\n",
    "            for piece in pile:\n",
    "                # pega a peça certa à direita\n",
    "                if piece[0][0]==row[position-1][0][1] and piece[1][0]==row[position-1][1][1]:\n",
    "                    # adiciona em 'row'\n",
    "                    row.append(piece[0:2])\n",
    "                    # remove de 'pile'\n",
    "                    index = pile.index(piece)\n",
    "                    pile.pop(index)\n",
    "                    # limitado pelo match; volta para o loop de cima\n",
    "                    break\n",
    "    solution.append(row)\n",
    "print(solution)"
   ]
  },
  {
   "cell_type": "code",
   "execution_count": 9,
   "id": "unknown-treasurer",
   "metadata": {},
   "outputs": [
    {
     "data": {
      "text/plain": [
       "[]"
      ]
     },
     "execution_count": 9,
     "metadata": {},
     "output_type": "execute_result"
    }
   ],
   "source": [
    "pile"
   ]
  }
 ],
 "metadata": {
  "kernelspec": {
   "display_name": "Python 3",
   "language": "python",
   "name": "python3"
  },
  "language_info": {
   "codemirror_mode": {
    "name": "ipython",
    "version": 3
   },
   "file_extension": ".py",
   "mimetype": "text/x-python",
   "name": "python",
   "nbconvert_exporter": "python",
   "pygments_lexer": "ipython3",
   "version": "3.8.6"
  }
 },
 "nbformat": 4,
 "nbformat_minor": 5
}
