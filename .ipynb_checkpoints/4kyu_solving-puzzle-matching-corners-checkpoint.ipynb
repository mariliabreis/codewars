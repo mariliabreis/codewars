{
 "cells": [
  {
   "cell_type": "markdown",
   "id": "happy-surveillance",
   "metadata": {},
   "source": [
    "# Solving a puzzle by matching four corners"
   ]
  },
  {
   "cell_type": "code",
   "execution_count": 1,
   "id": "reliable-emperor",
   "metadata": {},
   "outputs": [],
   "source": [
    "width, height = 3,3\n",
    "pieces = [ ((None, 5), (None, None), 3), \n",
    "           ((17, None), (None, None), 9),\n",
    "           ((None, 4), (None, 5), 8),\n",
    "           ((4, 11), (5, 17), 5),\n",
    "           ((11, None), (17, None), 2),   \n",
    "           ((None, None), (None, 4), 7),\n",
    "           ((5, 17), (None, None), 1), \n",
    "           ((None, None), (11, None), 4),\n",
    "           ((None, None), (4, 11), 6) ]"
   ]
  },
  {
   "cell_type": "code",
   "execution_count": null,
   "id": "waiting-mining",
   "metadata": {},
   "outputs": [],
   "source": [
    "# first of all: get all 4 corners"
   ]
  },
  {
   "cell_type": "code",
   "execution_count": 4,
   "id": "central-fellowship",
   "metadata": {},
   "outputs": [
    {
     "data": {
      "text/plain": [
       "((None, 5), (None, None), 3)"
      ]
     },
     "execution_count": 4,
     "metadata": {},
     "output_type": "execute_result"
    }
   ],
   "source": [
    "pieces[0]"
   ]
  },
  {
   "cell_type": "code",
   "execution_count": 12,
   "id": "bacterial-browser",
   "metadata": {},
   "outputs": [],
   "source": [
    "testlist = []\n",
    "for piece in pieces:\n",
    "    testlist.append(piece[0][0])\n",
    "    testlist.append(piece[0][1])\n",
    "    testlist.append(piece[1][0])\n",
    "    testlist.append(piece[1][1])"
   ]
  },
  {
   "cell_type": "code",
   "execution_count": 19,
   "id": "white-objective",
   "metadata": {},
   "outputs": [
    {
     "data": {
      "text/plain": [
       "[None,\n",
       " 5,\n",
       " None,\n",
       " None,\n",
       " 17,\n",
       " None,\n",
       " None,\n",
       " None,\n",
       " None,\n",
       " 4,\n",
       " None,\n",
       " 5,\n",
       " 4,\n",
       " 11,\n",
       " 5,\n",
       " 17,\n",
       " 11,\n",
       " None,\n",
       " 17,\n",
       " None,\n",
       " None,\n",
       " None,\n",
       " None,\n",
       " 4,\n",
       " 5,\n",
       " 17,\n",
       " None,\n",
       " None,\n",
       " None,\n",
       " None,\n",
       " 11,\n",
       " None,\n",
       " None,\n",
       " None,\n",
       " 4,\n",
       " 11]"
      ]
     },
     "execution_count": 19,
     "metadata": {},
     "output_type": "execute_result"
    }
   ],
   "source": [
    "testlist"
   ]
  },
  {
   "cell_type": "code",
   "execution_count": 20,
   "id": "improved-kelly",
   "metadata": {},
   "outputs": [
    {
     "data": {
      "text/plain": [
       "5"
      ]
     },
     "execution_count": 20,
     "metadata": {},
     "output_type": "execute_result"
    }
   ],
   "source": [
    "testlist[1]"
   ]
  },
  {
   "cell_type": "code",
   "execution_count": 32,
   "id": "fifty-musician",
   "metadata": {},
   "outputs": [],
   "source": [
    "corners_index = [index for index, value in enumerate(testlist) if value == 5]"
   ]
  },
  {
   "cell_type": "code",
   "execution_count": 23,
   "id": "hearing-subsection",
   "metadata": {},
   "outputs": [
    {
     "name": "stdout",
     "output_type": "stream",
     "text": [
      "1\n",
      "11\n",
      "14\n",
      "24\n"
     ]
    }
   ],
   "source": [
    "for index, value in enumerate(testlist):\n",
    "    if value == 5:\n",
    "        print(index)"
   ]
  },
  {
   "cell_type": "code",
   "execution_count": 31,
   "id": "fixed-conducting",
   "metadata": {},
   "outputs": [],
   "source": [
    "# index of piece = index/4.floor"
   ]
  },
  {
   "cell_type": "code",
   "execution_count": null,
   "id": "composite-bulletin",
   "metadata": {},
   "outputs": [],
   "source": []
  }
 ],
 "metadata": {
  "kernelspec": {
   "display_name": "Python 3",
   "language": "python",
   "name": "python3"
  },
  "language_info": {
   "codemirror_mode": {
    "name": "ipython",
    "version": 3
   },
   "file_extension": ".py",
   "mimetype": "text/x-python",
   "name": "python",
   "nbconvert_exporter": "python",
   "pygments_lexer": "ipython3",
   "version": "3.8.6"
  }
 },
 "nbformat": 4,
 "nbformat_minor": 5
}
