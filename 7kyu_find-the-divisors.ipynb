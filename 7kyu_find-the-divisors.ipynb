{
 "cells": [
  {
   "cell_type": "markdown",
   "id": "coral-department",
   "metadata": {},
   "source": [
    "# Find the divisors!\n",
    "Create a function named divisors/Divisors that takes an integer n > 1 and returns an array with all of the integer's divisors(except for 1 and the number itself), from smallest to largest. \\\n",
    "If the number is prime return the string '(integer) is prime'\n",
    "\n",
    "    "
   ]
  },
  {
   "cell_type": "code",
   "execution_count": 3,
   "id": "accomplished-sword",
   "metadata": {},
   "outputs": [],
   "source": [
    "# regra: n > 1\n",
    "# regra: verificar se primo. se sim: \"n is prime\"\n",
    "# loop: eliminar 1 e n. checar cada numero até n se divide sem sobra. se sem sobra, incluir em lista. "
   ]
  },
  {
   "cell_type": "code",
   "execution_count": 9,
   "id": "blind-consolidation",
   "metadata": {},
   "outputs": [],
   "source": [
    "# tried importing simpy to get .isprime() function, with no success:\n",
    "\n",
    "# import sympy\n",
    "# sympy.isprime(5)"
   ]
  },
  {
   "cell_type": "code",
   "execution_count": 62,
   "id": "joined-arlington",
   "metadata": {},
   "outputs": [],
   "source": [
    "# creates the main function\n",
    "def list_generation(n):\n",
    "    # bigger than 1 check\n",
    "    if n > 1:\n",
    "        # division loop\n",
    "        list_divisors = [i for i in range(2,n) if n % i == 0]\n",
    "        # prime check\n",
    "        if len(list_divisors) == 0:\n",
    "            return f'{n} is prime'\n",
    "        return list_divisors\n",
    "    return 'Please, choose a number greater than 1.'"
   ]
  },
  {
   "cell_type": "code",
   "execution_count": 61,
   "id": "german-mortality",
   "metadata": {},
   "outputs": [
    {
     "data": {
      "text/plain": [
       "'Please, choose a number greater than 1.'"
      ]
     },
     "execution_count": 61,
     "metadata": {},
     "output_type": "execute_result"
    }
   ],
   "source": [
    "list_generation(-151)"
   ]
  },
  {
   "cell_type": "code",
   "execution_count": 54,
   "id": "respected-equality",
   "metadata": {},
   "outputs": [],
   "source": [
    "list_divisors = [i for i in range(2,11) if 11 % i == 0]"
   ]
  },
  {
   "cell_type": "code",
   "execution_count": 55,
   "id": "national-gateway",
   "metadata": {},
   "outputs": [
    {
     "data": {
      "text/plain": [
       "[]"
      ]
     },
     "execution_count": 55,
     "metadata": {},
     "output_type": "execute_result"
    }
   ],
   "source": [
    "list_divisors"
   ]
  },
  {
   "cell_type": "markdown",
   "id": "noted-constitutional",
   "metadata": {},
   "source": [
    "### Best practice solution"
   ]
  },
  {
   "cell_type": "markdown",
   "id": "filled-relative",
   "metadata": {},
   "source": [
    "a minha hehehehehehe"
   ]
  },
  {
   "cell_type": "code",
   "execution_count": 63,
   "id": "complete-government",
   "metadata": {},
   "outputs": [],
   "source": [
    "def divisors(num):\n",
    "    l = [a for a in range(2,num) if num%a == 0]\n",
    "    if len(l) == 0:\n",
    "        return str(num) + \" is prime\"\n",
    "    return l"
   ]
  }
 ],
 "metadata": {
  "kernelspec": {
   "display_name": "Python 3",
   "language": "python",
   "name": "python3"
  },
  "language_info": {
   "codemirror_mode": {
    "name": "ipython",
    "version": 3
   },
   "file_extension": ".py",
   "mimetype": "text/x-python",
   "name": "python",
   "nbconvert_exporter": "python",
   "pygments_lexer": "ipython3",
   "version": "3.8.6"
  }
 },
 "nbformat": 4,
 "nbformat_minor": 5
}
